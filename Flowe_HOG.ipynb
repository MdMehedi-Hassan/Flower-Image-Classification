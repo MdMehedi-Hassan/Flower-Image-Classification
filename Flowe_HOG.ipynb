{
  "cells": [
    {
      "cell_type": "markdown",
      "metadata": {
        "id": "view-in-github",
        "colab_type": "text"
      },
      "source": [
        "<a href=\"https://colab.research.google.com/github/MdMehedi-Hassan/Flower-Image-Classification/blob/main/Flowe_HOG.ipynb\" target=\"_parent\"><img src=\"https://colab.research.google.com/assets/colab-badge.svg\" alt=\"Open In Colab\"/></a>"
      ]
    },
    {
      "cell_type": "markdown",
      "metadata": {
        "id": "mIV7Ydq5NOFA"
      },
      "source": [
        "# Installing Libs"
      ]
    },
    {
      "cell_type": "code",
      "execution_count": null,
      "metadata": {
        "id": "mF_C-yJSKQdg",
        "colab": {
          "base_uri": "https://localhost:8080/"
        },
        "outputId": "9ec1ddbc-9c57-4d92-8bf6-71c078883ea4"
      },
      "outputs": [
        {
          "output_type": "stream",
          "name": "stdout",
          "text": [
            "\u001b[2K   \u001b[90m━━━━━━━━━━━━━━━━━━━━━━━━━━━━━━━━━━━━━━━━\u001b[0m \u001b[32m99.2/99.2 MB\u001b[0m \u001b[31m38.5 MB/s\u001b[0m eta \u001b[36m0:00:00\u001b[0m\n",
            "\u001b[2K   \u001b[90m━━━━━━━━━━━━━━━━━━━━━━━━━━━━━━━━━━━━━━━━\u001b[0m \u001b[32m47.3/47.3 kB\u001b[0m \u001b[31m5.4 MB/s\u001b[0m eta \u001b[36m0:00:00\u001b[0m\n",
            "\u001b[2K   \u001b[90m━━━━━━━━━━━━━━━━━━━━━━━━━━━━━━━━━━━━━━━━\u001b[0m \u001b[32m3.6/3.6 MB\u001b[0m \u001b[31m38.9 MB/s\u001b[0m eta \u001b[36m0:00:00\u001b[0m\n",
            "\u001b[2K   \u001b[90m━━━━━━━━━━━━━━━━━━━━━━━━━━━━━━━━━━━━━━━━\u001b[0m \u001b[32m253.9/253.9 MB\u001b[0m \u001b[31m15.1 MB/s\u001b[0m eta \u001b[36m0:00:00\u001b[0m\n",
            "\u001b[2K   \u001b[90m━━━━━━━━━━━━━━━━━━━━━━━━━━━━━━━━━━━━━━━━\u001b[0m \u001b[32m322.3/322.3 MB\u001b[0m \u001b[31m9.1 MB/s\u001b[0m eta \u001b[36m0:00:00\u001b[0m\n",
            "\u001b[?25hCollecting opencv-python\n",
            "  Downloading opencv_python-4.12.0.88-cp37-abi3-manylinux2014_x86_64.manylinux_2_17_x86_64.whl.metadata (19 kB)\n",
            "Requirement already satisfied: numpy<2.3.0,>=2 in /usr/local/lib/python3.11/dist-packages (from opencv-python) (2.0.2)\n",
            "Downloading opencv_python-4.12.0.88-cp37-abi3-manylinux2014_x86_64.manylinux_2_17_x86_64.whl (67.0 MB)\n",
            "\u001b[2K   \u001b[90m━━━━━━━━━━━━━━━━━━━━━━━━━━━━━━━━━━━━━━━━\u001b[0m \u001b[32m67.0/67.0 MB\u001b[0m \u001b[31m54.6 MB/s\u001b[0m eta \u001b[36m0:00:00\u001b[0m\n",
            "\u001b[?25hInstalling collected packages: opencv-python\n",
            "Successfully installed opencv-python-4.12.0.88\n"
          ]
        }
      ],
      "source": [
        "!pip install catboost -q\n",
        "!pip install lightgbm -q\n",
        "!pip install xgboost -q\n",
        "!pip install opencv-python\n",
        "!pip install gdown -q"
      ]
    },
    {
      "cell_type": "markdown",
      "metadata": {
        "id": "kXXxMtuqNSKy"
      },
      "source": [
        "# Imports"
      ]
    },
    {
      "cell_type": "code",
      "execution_count": null,
      "metadata": {
        "id": "oI8H40TZdwgV"
      },
      "outputs": [],
      "source": [
        "import warnings\n",
        "from collections import Counter\n",
        "import numpy as np\n",
        "import pandas as pd\n",
        "import seaborn as sns\n",
        "import matplotlib.pyplot as plt\n",
        "from xgboost import XGBClassifier\n",
        "from lightgbm import LGBMClassifier\n",
        "from catboost import CatBoostClassifier\n",
        "from sklearn.ensemble import RandomForestClassifier\n",
        "import cv2\n",
        "from skimage.feature import hog\n",
        "from skimage import exposure\n",
        "import matplotlib.pyplot as plt\n",
        "from sklearn.model_selection import train_test_split, GridSearchCV\n",
        "from sklearn.preprocessing import StandardScaler, LabelEncoder\n",
        "import pickle\n",
        "from pathlib import Path\n",
        "import warnings\n",
        "import random\n",
        "\n",
        "from sklearn.metrics import (\n",
        "    accuracy_score,\n",
        "    classification_report,\n",
        "    confusion_matrix,\n",
        "    f1_score,\n",
        "    precision_recall_curve,\n",
        "    precision_score,\n",
        "    recall_score,\n",
        "    roc_curve,\n",
        "    roc_auc_score,\n",
        "    balanced_accuracy_score,\n",
        "    auc\n",
        ")\n",
        "\n",
        "from sklearn.model_selection import train_test_split\n",
        "from sklearn.preprocessing import LabelEncoder, MinMaxScaler\n",
        "warnings.filterwarnings('ignore')"
      ]
    },
    {
      "cell_type": "markdown",
      "source": [
        "# Constant"
      ],
      "metadata": {
        "id": "00i7Pcb2_y6P"
      }
    },
    {
      "cell_type": "code",
      "source": [
        "image_size = 256"
      ],
      "metadata": {
        "id": "A_ACEeXm_x9B"
      },
      "execution_count": null,
      "outputs": []
    },
    {
      "cell_type": "markdown",
      "metadata": {
        "id": "oUzfrkxNNiE8"
      },
      "source": [
        "# Downloading Dataset"
      ]
    },
    {
      "cell_type": "code",
      "source": [
        "! gdown 1nzf5b_NNJlnInkueIWCOG7PWFv-Zk2Wk"
      ],
      "metadata": {
        "colab": {
          "base_uri": "https://localhost:8080/"
        },
        "id": "1OcxT6HANlPq",
        "outputId": "ea1e9734-aef7-473f-84e5-3ffa757d1706"
      },
      "execution_count": null,
      "outputs": [
        {
          "output_type": "stream",
          "name": "stdout",
          "text": [
            "Downloading...\n",
            "From (original): https://drive.google.com/uc?id=1nzf5b_NNJlnInkueIWCOG7PWFv-Zk2Wk\n",
            "From (redirected): https://drive.google.com/uc?id=1nzf5b_NNJlnInkueIWCOG7PWFv-Zk2Wk&confirm=t&uuid=4b7a02d2-b653-4a82-9fb9-1cc199c37f87\n",
            "To: /content/Flowers.zip\n",
            "100% 145M/145M [00:02<00:00, 50.9MB/s]\n"
          ]
        }
      ]
    },
    {
      "cell_type": "code",
      "source": [
        "!rm -r Dataset"
      ],
      "metadata": {
        "colab": {
          "base_uri": "https://localhost:8080/"
        },
        "id": "XLPVAXdPEEfU",
        "outputId": "de612d12-9aaa-4d30-9e1b-56639661000f"
      },
      "execution_count": null,
      "outputs": [
        {
          "output_type": "stream",
          "name": "stdout",
          "text": [
            "rm: cannot remove 'Dataset': No such file or directory\n"
          ]
        }
      ]
    },
    {
      "cell_type": "code",
      "source": [
        "!unzip -q *.zip -d Dataset/"
      ],
      "metadata": {
        "id": "QJIeVc2sNo7b"
      },
      "execution_count": null,
      "outputs": []
    },
    {
      "cell_type": "code",
      "source": [
        "def extract_hog_features(image, image_size=(256, 256)):\n",
        "    try:\n",
        "        image_resized = cv2.resize(image, image_size)\n",
        "\n",
        "        if len(image_resized.shape) == 3:\n",
        "            gray_image = cv2.cvtColor(image_resized, cv2.COLOR_RGB2GRAY)\n",
        "        else:\n",
        "            gray_image = image_resized\n",
        "\n",
        "        hog_feature = hog(\n",
        "            gray_image,\n",
        "            orientations=9,\n",
        "            pixels_per_cell=(8, 8),\n",
        "            cells_per_block=(2, 2),\n",
        "            transform_sqrt=True,\n",
        "            visualize=False,\n",
        "            feature_vector=True\n",
        "        )\n",
        "\n",
        "        return hog_feature\n",
        "\n",
        "    except Exception as e:\n",
        "        print(f\"Error extracting HOG features: {e}\")\n",
        "        return None"
      ],
      "metadata": {
        "id": "BjLoHy3ITKxX"
      },
      "execution_count": null,
      "outputs": []
    },
    {
      "cell_type": "code",
      "source": [
        "from concurrent.futures import ThreadPoolExecutor, as_completed\n",
        "import threading\n",
        "from tqdm import tqdm\n",
        "\n",
        "def process_single_image(image_info):\n",
        "\n",
        "    image_path, class_name, image_size = image_info\n",
        "\n",
        "    try:\n",
        "        image = cv2.imread(str(image_path))\n",
        "        if image is None:\n",
        "            return None\n",
        "\n",
        "        image = cv2.cvtColor(image, cv2.COLOR_BGR2RGB)\n",
        "        hog_feature = extract_hog_features(image, image_size)\n",
        "\n",
        "        if hog_feature is not None:\n",
        "            return (hog_feature, class_name, str(image_path))\n",
        "        else:\n",
        "            return None\n",
        "\n",
        "    except Exception as e:\n",
        "        print(f\"Error processing {image_path}: {e}\")\n",
        "        return None\n",
        "\n",
        "def load_images_and_extract_features(base_path, image_size=(256, 256), max_workers=None):\n",
        "\n",
        "    base_path = Path(base_path)\n",
        "    hog_features = []\n",
        "    labels = []\n",
        "    all_image_paths = []\n",
        "\n",
        "\n",
        "    class_folders = [f for f in base_path.iterdir() if f.is_dir()]\n",
        "    class_names = [f.name for f in class_folders]\n",
        "\n",
        "    print(f\"Found classes: {class_names}\")\n",
        "    all_image_info = []\n",
        "\n",
        "    for class_folder in class_folders:\n",
        "        class_name = class_folder.name\n",
        "        print(f\"Scanning class: {class_name}\")\n",
        "\n",
        "        image_extensions = ['.jpg', '.jpeg', '.png', '.bmp', '.tiff', '.tif']\n",
        "\n",
        "        image_files = []\n",
        "        for ext in image_extensions:\n",
        "            image_files.extend(list(class_folder.glob(f\"*{ext}\")))\n",
        "            image_files.extend(list(class_folder.glob(f\"*{ext.upper()}\")))\n",
        "\n",
        "        print(f\"Found {len(image_files)} images in {class_name}\")\n",
        "\n",
        "        for image_path in image_files:\n",
        "            all_image_info.append((image_path, class_name, image_size))\n",
        "\n",
        "    print(f\"Total images to process: {len(all_image_info)}\")\n",
        "\n",
        "    with ThreadPoolExecutor(max_workers=max_workers) as executor:\n",
        "\n",
        "        with tqdm(total=len(all_image_info), desc=\"Processing images\") as pbar:\n",
        "            future_to_info = {executor.submit(process_single_image, info): info\n",
        "                             for info in all_image_info}\n",
        "\n",
        "            for future in as_completed(future_to_info):\n",
        "                result = future.result()\n",
        "                if result is not None:\n",
        "                    hog_feature, class_name, image_path = result\n",
        "                    hog_features.append(hog_feature)\n",
        "                    labels.append(class_name)\n",
        "                    all_image_paths.append(image_path)\n",
        "\n",
        "                pbar.update(1)\n",
        "\n",
        "    hog_features = np.array(hog_features)\n",
        "    labels = np.array(labels)\n",
        "    all_image_paths = np.array(all_image_paths)\n",
        "\n",
        "    print(f\"Total samples loaded: {len(hog_features)}\")\n",
        "    print(f\"Feature vector size: {hog_features.shape[1] if len(hog_features) > 0 else 0}\")\n",
        "\n",
        "    return hog_features, labels, class_names, all_image_paths\n"
      ],
      "metadata": {
        "id": "ILTkeCCYTcdp"
      },
      "execution_count": null,
      "outputs": []
    },
    {
      "cell_type": "markdown",
      "source": [
        "# Loading Data and Feature Extraction"
      ],
      "metadata": {
        "id": "lW39xcL773BC"
      }
    },
    {
      "cell_type": "code",
      "source": [
        "dataset_path = \"/content/Dataset\"\n",
        "image_size = (image_size, image_size)"
      ],
      "metadata": {
        "id": "N5w_Bu9SUEh5"
      },
      "execution_count": null,
      "outputs": []
    },
    {
      "cell_type": "code",
      "source": [
        "!clear"
      ],
      "metadata": {
        "colab": {
          "base_uri": "https://localhost:8080/"
        },
        "id": "DiHIB6UjD8V7",
        "outputId": "c34652f0-a0d4-48bc-a841-c840fac5b46f"
      },
      "execution_count": null,
      "outputs": [
        {
          "output_type": "stream",
          "name": "stdout",
          "text": [
            "\u001b[H\u001b[2J"
          ]
        }
      ]
    },
    {
      "cell_type": "code",
      "source": [
        "hog_features, labels, class_names, all_image_paths = load_images_and_extract_features(dataset_path, image_size)"
      ],
      "metadata": {
        "colab": {
          "base_uri": "https://localhost:8080/"
        },
        "id": "Egv0jmmNUNj7",
        "outputId": "91080cd0-5cb5-4acb-e9c5-5cedf5a7885f"
      },
      "execution_count": null,
      "outputs": [
        {
          "output_type": "stream",
          "name": "stdout",
          "text": [
            "Found classes: ['Magnolia', 'Astilbe', 'Sunflower', 'Dandelion', 'Rose']\n",
            "Scanning class: Magnolia\n",
            "Found 1048 images in Magnolia\n",
            "Scanning class: Astilbe\n",
            "Found 733 images in Astilbe\n",
            "Scanning class: Sunflower\n",
            "Found 1025 images in Sunflower\n",
            "Scanning class: Dandelion\n",
            "Found 2088 images in Dandelion\n",
            "Scanning class: Rose\n",
            "Found 1065 images in Rose\n",
            "Total images to process: 5959\n"
          ]
        },
        {
          "output_type": "stream",
          "name": "stderr",
          "text": [
            "Processing images: 100%|██████████| 5959/5959 [01:00<00:00, 97.74it/s] \n"
          ]
        },
        {
          "output_type": "stream",
          "name": "stdout",
          "text": [
            "Total samples loaded: 5959\n",
            "Feature vector size: 34596\n"
          ]
        }
      ]
    },
    {
      "cell_type": "code",
      "source": [
        "np.unique(labels)"
      ],
      "metadata": {
        "colab": {
          "base_uri": "https://localhost:8080/"
        },
        "id": "5UPTsdAA_TAX",
        "outputId": "cc7e1d54-8d18-4d54-f9e1-838d56367f88"
      },
      "execution_count": null,
      "outputs": [
        {
          "output_type": "execute_result",
          "data": {
            "text/plain": [
              "array(['Astilbe', 'Dandelion', 'Magnolia', 'Rose', 'Sunflower'],\n",
              "      dtype='<U9')"
            ]
          },
          "metadata": {},
          "execution_count": 12
        }
      ]
    },
    {
      "cell_type": "code",
      "source": [
        "labels_map = {\n",
        "    'Astilbe': 0,\n",
        "    'Dandelion': 1,\n",
        "    'Magnolia': 2,\n",
        "    'Rose': 3,\n",
        "    'Sunflower': 4\n",
        "}"
      ],
      "metadata": {
        "id": "wwsakNRDAMkV"
      },
      "execution_count": null,
      "outputs": []
    },
    {
      "cell_type": "code",
      "source": [
        "X, y = hog_features, np.vectorize(labels_map.get)(labels)"
      ],
      "metadata": {
        "id": "4EauyGfdWP78"
      },
      "execution_count": null,
      "outputs": []
    },
    {
      "cell_type": "markdown",
      "metadata": {
        "id": "ClkWCOPePDkP"
      },
      "source": [
        "# Scaling"
      ]
    },
    {
      "cell_type": "code",
      "execution_count": null,
      "metadata": {
        "id": "D1yaU0DNtrt7"
      },
      "outputs": [],
      "source": [
        "scaler = MinMaxScaler()\n",
        "X = scaler.fit_transform(X)"
      ]
    },
    {
      "cell_type": "markdown",
      "source": [
        "# Memory Cleanup"
      ],
      "metadata": {
        "id": "w7diVAxGGccl"
      }
    },
    {
      "cell_type": "code",
      "source": [
        "import gc\n",
        "hog_features = None\n",
        "gc.collect()\n",
        "\n",
        "\n",
        "15s-du3561TU"
      ],
      "metadata": {
        "colab": {
          "base_uri": "https://localhost:8080/"
        },
        "id": "X-TvZWN-GVSS",
        "outputId": "84b04f98-e813-4c88-d8f0-a8a1ee0740b5"
      },
      "execution_count": null,
      "outputs": [
        {
          "output_type": "execute_result",
          "data": {
            "text/plain": [
              "0"
            ]
          },
          "metadata": {},
          "execution_count": 17
        }
      ]
    },
    {
      "cell_type": "markdown",
      "metadata": {
        "id": "MQdyIsINPGT6"
      },
      "source": [
        "# Train Test Split"
      ]
    },
    {
      "cell_type": "code",
      "execution_count": null,
      "metadata": {
        "id": "DAF0iz7fuVlG"
      },
      "outputs": [],
      "source": [
        "X_train, X_test, y_train, y_test = train_test_split(X, y, test_size=0.2, random_state=42, stratify=y)"
      ]
    },
    {
      "cell_type": "code",
      "source": [
        "X_train.shape, X_test.shape"
      ],
      "metadata": {
        "colab": {
          "base_uri": "https://localhost:8080/"
        },
        "id": "-7ZmDKd7G2a9",
        "outputId": "9130bc03-5462-4aba-8b54-91d6b3cc41ee"
      },
      "execution_count": null,
      "outputs": [
        {
          "output_type": "execute_result",
          "data": {
            "text/plain": [
              "((4767, 34596), (1192, 34596))"
            ]
          },
          "metadata": {},
          "execution_count": 19
        }
      ]
    },
    {
      "cell_type": "code",
      "source": [
        "X, y = None, None\n",
        "gc.collect()"
      ],
      "metadata": {
        "colab": {
          "base_uri": "https://localhost:8080/"
        },
        "id": "IpvfInFfGkTu",
        "outputId": "04d34eaf-2f6d-497e-f816-172ef09be693"
      },
      "execution_count": null,
      "outputs": [
        {
          "output_type": "execute_result",
          "data": {
            "text/plain": [
              "0"
            ]
          },
          "metadata": {},
          "execution_count": 20
        }
      ]
    },
    {
      "cell_type": "code",
      "source": [
        "metrics_dict = {}"
      ],
      "metadata": {
        "id": "OZxlkvGbAhIy"
      },
      "execution_count": null,
      "outputs": []
    },
    {
      "cell_type": "markdown",
      "metadata": {
        "id": "_t_NhoerijUH"
      },
      "source": [
        "# Catboost"
      ]
    },
    {
      "cell_type": "markdown",
      "metadata": {
        "id": "5y-yHBw8Ply4"
      },
      "source": [
        "## Training"
      ]
    },
    {
      "cell_type": "code",
      "execution_count": null,
      "metadata": {
        "colab": {
          "base_uri": "https://localhost:8080/"
        },
        "id": "eD2SC0pLwaSG",
        "outputId": "fef905bc-6210-4ed7-cac9-d87c2df11cde"
      },
      "outputs": [
        {
          "output_type": "stream",
          "name": "stdout",
          "text": [
            "Accuracy: 0.6829\n",
            "Precision: 0.6854\n",
            "Recall: 0.6829\n",
            "F1: 0.6782\n",
            "Balanced Accuracy: 0.6481\n"
          ]
        }
      ],
      "source": [
        "model = CatBoostClassifier(random_state=42, verbose=False)\n",
        "model.fit(X_train, y_train)\n",
        "\n",
        "y_pred = model.predict(X_test)\n",
        "y_proba = model.predict_proba(X_test)\n",
        "\n",
        "metrics = {\n",
        "    'Accuracy': accuracy_score(y_test, y_pred),\n",
        "    'Precision': precision_score(y_test, y_pred, average='weighted'),\n",
        "    'Recall': recall_score(y_test, y_pred, average='weighted'),\n",
        "    'F1': f1_score(y_test, y_pred, average='weighted'),\n",
        "    'Balanced Accuracy' : balanced_accuracy_score(y_test, y_pred),\n",
        "}\n",
        "\n",
        "for key, value in metrics.items():\n",
        "    print(f\"{key}: {value:.4f}\")\n",
        "\n",
        "metrics_dict['Catboost'] =  metrics"
      ]
    },
    {
      "cell_type": "code",
      "source": [
        "cm = confusion_matrix(y_test, y_pred)\n",
        "plt.figure(figsize=(6, 4))\n",
        "sns.heatmap(cm, annot=True, fmt='d', cmap='Blues',\n",
        "            xticklabels=class_names, yticklabels=class_names)\n",
        "plt.title('Confusion Matrix')\n",
        "plt.xlabel('Predicted')\n",
        "plt.ylabel('Actual')\n",
        "plt.tight_layout()\n",
        "plt.show()"
      ],
      "metadata": {
        "id": "RKuVEzCj5GVd",
        "outputId": "ee50c411-ef35-4c11-d234-9a7b9c822d12",
        "colab": {
          "base_uri": "https://localhost:8080/",
          "height": 407
        }
      },
      "execution_count": null,
      "outputs": [
        {
          "output_type": "display_data",
          "data": {
            "text/plain": [
              "<Figure size 600x400 with 2 Axes>"
            ],
            "image/png": "[encoded data removed]"
          },
          "metadata": {}
        }
      ]
    },
    {
      "cell_type": "markdown",
      "metadata": {
        "id": "GjHdFGKMipBj"
      },
      "source": [
        "# XGBoost\n"
      ]
    },
    {
      "cell_type": "markdown",
      "metadata": {
        "id": "Oeqw3IRHQKac"
      },
      "source": [
        "## Training"
      ]
    },
    {
      "cell_type": "code",
      "execution_count": null,
      "metadata": {
        "id": "fdp4Sa99ipBk",
        "colab": {
          "base_uri": "https://localhost:8080/"
        },
        "outputId": "fe22f4ef-7008-4cc6-abc5-0db647620fdc"
      },
      "outputs": [
        {
          "output_type": "stream",
          "name": "stdout",
          "text": [
            "Accuracy: 0.6418\n",
            "Precision: 0.6452\n",
            "Recall: 0.6418\n",
            "F1: 0.6331\n",
            "Balanced Accuracy: 0.5956\n"
          ]
        }
      ],
      "source": [
        "model = XGBClassifier(random_state=42)\n",
        "model.fit(X_train, y_train)\n",
        "\n",
        "y_pred = model.predict(X_test)\n",
        "y_proba = model.predict_proba(X_test)[:, 1]\n",
        "\n",
        "metrics = {\n",
        "    'Accuracy': accuracy_score(y_test, y_pred),\n",
        "    'Precision': precision_score(y_test, y_pred, average='weighted'),\n",
        "    'Recall': recall_score(y_test, y_pred, average='weighted'),\n",
        "    'F1': f1_score(y_test, y_pred, average='weighted'),\n",
        "    'Balanced Accuracy' : balanced_accuracy_score(y_test, y_pred),\n",
        "}\n",
        "\n",
        "for key, value in metrics.items():\n",
        "    print(f\"{key}: {value:.4f}\")\n",
        "\n",
        "metrics_dict['XGBoost'] =  metrics"
      ]
    },
    {
      "cell_type": "code",
      "source": [
        "cm = confusion_matrix(y_test, y_pred)\n",
        "plt.figure(figsize=(6, 4))\n",
        "sns.heatmap(cm, annot=True, fmt='d', cmap='Blues',\n",
        "            xticklabels=class_names, yticklabels=class_names)\n",
        "plt.title('Confusion Matrix')\n",
        "plt.xlabel('Predicted')\n",
        "plt.ylabel('Actual')\n",
        "plt.tight_layout()\n",
        "plt.show()"
      ],
      "metadata": {
        "colab": {
          "base_uri": "https://localhost:8080/",
          "height": 407
        },
        "id": "bwaisH84YVfZ",
        "outputId": "c140403b-9c64-498b-bcf6-eec1ffa56b42"
      },
      "execution_count": null,
      "outputs": [
        {
          "output_type": "display_data",
          "data": {
            "text/plain": [
              "<Figure size 600x400 with 2 Axes>"
            ],
            "image/png": "[encoded data removed]"
          },
          "metadata": {}
        }
      ]
    },
    {
      "cell_type": "markdown",
      "metadata": {
        "id": "ZP2Mj_GXmtQo"
      },
      "source": [
        "# LightGBM\n"
      ]
    },
    {
      "cell_type": "markdown",
      "metadata": {
        "id": "TuP3mDRTmtQo"
      },
      "source": [
        "## Training"
      ]
    },
    {
      "cell_type": "code",
      "execution_count": null,
      "metadata": {
        "id": "GY-g0qWmmtQo",
        "colab": {
          "base_uri": "https://localhost:8080/"
        },
        "outputId": "3924b3ee-b7b7-4656-ab0c-0f72b956178e"
      },
      "outputs": [
        {
          "output_type": "stream",
          "name": "stdout",
          "text": [
            "Accuracy: 0.6544\n",
            "Precision: 0.6672\n",
            "Recall: 0.6544\n",
            "F1: 0.6453\n",
            "Balanced Accuracy: 0.6052\n"
          ]
        }
      ],
      "source": [
        "model = LGBMClassifier(random_state=42, verbosity = -1)\n",
        "model.fit(X_train, y_train)\n",
        "\n",
        "y_pred = model.predict(X_test)\n",
        "y_proba = model.predict_proba(X_test)[:, 1]\n",
        "\n",
        "metrics = {\n",
        "    'Accuracy': accuracy_score(y_test, y_pred),\n",
        "    'Precision': precision_score(y_test, y_pred, average='weighted'),\n",
        "    'Recall': recall_score(y_test, y_pred, average='weighted'),\n",
        "    'F1': f1_score(y_test, y_pred, average='weighted'),\n",
        "    'Balanced Accuracy' : balanced_accuracy_score(y_test, y_pred),\n",
        "}\n",
        "\n",
        "for key, value in metrics.items():\n",
        "    print(f\"{key}: {value:.4f}\")\n",
        "\n",
        "metrics_dict['LGBM'] =  metrics"
      ]
    },
    {
      "cell_type": "code",
      "source": [
        "cm = confusion_matrix(y_test, y_pred)\n",
        "plt.figure(figsize=(6, 4))\n",
        "sns.heatmap(cm, annot=True, fmt='d', cmap='Blues',\n",
        "            xticklabels=class_names, yticklabels=class_names)\n",
        "plt.title('Confusion Matrix')\n",
        "plt.xlabel('Predicted')\n",
        "plt.ylabel('Actual')\n",
        "plt.tight_layout()\n",
        "plt.show()"
      ],
      "metadata": {
        "colab": {
          "base_uri": "https://localhost:8080/",
          "height": 54
        },
        "id": "RLfDxIiJo-sV",
        "outputId": "2ceddd35-f295-4f93-ac17-8aea8687e2ae"
      },
      "execution_count": null,
      "outputs": [
        {
          "output_type": "display_data",
          "data": {
            "text/plain": [
              "<Figure size 600x400 with 2 Axes>"
            ],
            "image/png": "[encoded data removed]"
          },
          "metadata": {}
        }
      ]
    },
    {
      "cell_type": "markdown",
      "metadata": {
        "id": "Jw7iaoX-Q1A5"
      },
      "source": [
        "# Metrics"
      ]
    },
    {
      "cell_type": "code",
      "execution_count": null,
      "metadata": {
        "id": "mKGnDsXZ6KIa"
      },
      "outputs": [],
      "source": [
        "data = []\n",
        "for model, metrics in metrics_dict.items():\n",
        "    for metric, value in metrics.items():\n",
        "        data.append({'Model': model, 'Metric': metric, 'Value': value})\n",
        "metric_df = pd.DataFrame(data)\n",
        "\n",
        "def plot_metric(metric_name):\n",
        "\n",
        "    plt.figure(figsize=(8, 5))\n",
        "    ax = sns.barplot(\n",
        "        x='Model',\n",
        "        y='Value',\n",
        "        data=metric_df[metric_df['Metric'] == metric_name],\n",
        "        palette=sns.color_palette(\"Set2\"),\n",
        "        saturation=0.8\n",
        "    )\n",
        "\n",
        "    ax.set_title(metric_name + \"\\n\", fontsize=14)\n",
        "    ax.set_ylim(0, pd.to_numeric(metric_df[metric_df['Metric'] == metric_name].select_dtypes(include=[np.number]).max(), errors='coerce').max() + 0.1)\n",
        "\n",
        "    ax.set_xlabel('')\n",
        "    ax.set_ylabel('Score', fontsize=12)\n",
        "\n",
        "    for container in ax.containers:\n",
        "        ax.bar_label(container, fmt='%.2f', padding=3, fontsize=10)\n",
        "\n",
        "    plt.xticks(rotation=45, ha='right')\n",
        "    plt.tight_layout()\n",
        "    plt.show()\n",
        "\n",
        "metric_names = ['Accuracy', 'Precision', 'Recall', 'F1', 'Balanced Accuracy']"
      ]
    },
    {
      "cell_type": "code",
      "execution_count": null,
      "metadata": {
        "id": "v3CFXVS-6pFp",
        "colab": {
          "base_uri": "https://localhost:8080/"
        },
        "outputId": "8e85a039-d3b7-46d3-8d81-46838201457f"
      },
      "outputs": [
        {
          "output_type": "display_data",
          "data": {
            "text/plain": [
              "<Figure size 800x500 with 1 Axes>"
            ],
            "image/png": "[encoded data removed]"
          },
          "metadata": {}
        }
      ],
      "source": [
        "plot_metric(metric_names[0])"
      ]
    },
    {
      "cell_type": "code",
      "execution_count": null,
      "metadata": {
        "id": "kY2iXXmr6rn0",
        "colab": {
          "base_uri": "https://localhost:8080/"
        },
        "outputId": "17d9bedd-f17f-4dcf-a6e0-97f2ae99f8a3"
      },
      "outputs": [
        {
          "output_type": "display_data",
          "data": {
            "text/plain": [
              "<Figure size 800x500 with 1 Axes>"
            ],
            "image/png": "[encoded data removed]"
          },
          "metadata": {}
        }
      ],
      "source": [
        "plot_metric(metric_names[1])"
      ]
    },
    {
      "cell_type": "code",
      "execution_count": null,
      "metadata": {
        "id": "w_cSgVXu6_Dc",
        "colab": {
          "base_uri": "https://localhost:8080/"
        },
        "outputId": "ca0f0405-f8bc-4434-86a4-5f30ed2ec0a3"
      },
      "outputs": [
        {
          "output_type": "display_data",
          "data": {
            "text/plain": [
              "<Figure size 800x500 with 1 Axes>"
            ],
            "image/png": "[encoded data removed]"
          },
          "metadata": {}
        }
      ],
      "source": [
        "plot_metric(metric_names[2])"
      ]
    },
    {
      "cell_type": "code",
      "execution_count": null,
      "metadata": {
        "id": "Xr_wj-Cz7ADm",
        "colab": {
          "base_uri": "https://localhost:8080/",
          "height": 507
        },
        "outputId": "15c25042-c199-4a8f-93b3-4262d7e5635c"
      },
      "outputs": [
        {
          "output_type": "display_data",
          "data": {
            "text/plain": [
              "<Figure size 800x500 with 1 Axes>"
            ],
            "image/png": "[encoded data removed]"
          },
          "metadata": {}
        }
      ],
      "source": [
        "plot_metric(metric_names[3])"
      ]
    },
    {
      "cell_type": "code",
      "source": [
        "metric_df.pivot(index=\"Model\", columns=\"Metric\", values=\"Value\").sort_values(by = 'Accuracy', ascending = False).reset_index()"
      ],
      "metadata": {
        "id": "Zn0P1FDcmH_U",
        "colab": {
          "base_uri": "https://localhost:8080/",
          "height": 143
        },
        "outputId": "c14ce5f2-af27-4d72-9c1e-8174bc491ac5"
      },
      "execution_count": null,
      "outputs": [
        {
          "output_type": "execute_result",
          "data": {
            "text/plain": [
              "Metric     Model  Accuracy  Balanced Accuracy        F1  Precision    Recall\n",
              "0       Catboost  0.682886           0.648105  0.678173   0.685351  0.682886\n",
              "1           LGBM  0.654362           0.605235  0.645280   0.667243  0.654362\n",
              "2        XGBoost  0.641779           0.595564  0.633073   0.645209  0.641779"
            ],
            "text/html": [
              "\n",
              "  <div id=\"df-a67dfecd-2c2f-4b32-85e4-204a894ed099\" class=\"colab-df-container\">\n",
              "    <div>\n",
              "<style scoped>\n",
              "    .dataframe tbody tr th:only-of-type {\n",
              "        vertical-align: middle;\n",
              "    }\n",
              "\n",
              "    .dataframe tbody tr th {\n",
              "        vertical-align: top;\n",
              "    }\n",
              "\n",
              "    .dataframe thead th {\n",
              "        text-align: right;\n",
              "    }\n",
              "</style>\n",
              "<table border=\"1\" class=\"dataframe\">\n",
              "  <thead>\n",
              "    <tr style=\"text-align: right;\">\n",
              "      <th>Metric</th>\n",
              "      <th>Model</th>\n",
              "      <th>Accuracy</th>\n",
              "      <th>Balanced Accuracy</th>\n",
              "      <th>F1</th>\n",
              "      <th>Precision</th>\n",
              "      <th>Recall</th>\n",
              "    </tr>\n",
              "  </thead>\n",
              "  <tbody>\n",
              "    <tr>\n",
              "      <th>0</th>\n",
              "      <td>Catboost</td>\n",
              "      <td>0.682886</td>\n",
              "      <td>0.648105</td>\n",
              "      <td>0.678173</td>\n",
              "      <td>0.685351</td>\n",
              "      <td>0.682886</td>\n",
              "    </tr>\n",
              "    <tr>\n",
              "      <th>1</th>\n",
              "      <td>LGBM</td>\n",
              "      <td>0.654362</td>\n",
              "      <td>0.605235</td>\n",
              "      <td>0.645280</td>\n",
              "      <td>0.667243</td>\n",
              "      <td>0.654362</td>\n",
              "    </tr>\n",
              "    <tr>\n",
              "      <th>2</th>\n",
              "      <td>XGBoost</td>\n",
              "      <td>0.641779</td>\n",
              "      <td>0.595564</td>\n",
              "      <td>0.633073</td>\n",
              "      <td>0.645209</td>\n",
              "      <td>0.641779</td>\n",
              "    </tr>\n",
              "  </tbody>\n",
              "</table>\n",
              "</div>\n",
              "    <div class=\"colab-df-buttons\">\n",
              "\n",
              "  <div class=\"colab-df-container\">\n",
              "    <button class=\"colab-df-convert\" onclick=\"convertToInteractive('df-a67dfecd-2c2f-4b32-85e4-204a894ed099')\"\n",
              "            title=\"Convert this dataframe to an interactive table.\"\n",
              "            style=\"display:none;\">\n",
              "\n",
              "  <svg xmlns=\"http://www.w3.org/2000/svg\" height=\"24px\" viewBox=\"0 -960 960 960\">\n",
              "    <path d=\"M120-120v-720h720v720H120Zm60-500h600v-160H180v160Zm220 220h160v-160H400v160Zm0 220h160v-160H400v160ZM180-400h160v-160H180v160Zm440 0h160v-160H620v160ZM180-180h160v-160H180v160Zm440 0h160v-160H620v160Z\"/>\n",
              "  </svg>\n",
              "    </button>\n",
              "\n",
              "  <style>\n",
              "    .colab-df-container {\n",
              "      display:flex;\n",
              "      gap: 12px;\n",
              "    }\n",
              "\n",
              "    .colab-df-convert {\n",
              "      background-color: #E8F0FE;\n",
              "      border: none;\n",
              "      border-radius: 50%;\n",
              "      cursor: pointer;\n",
              "      display: none;\n",
              "      fill: #1967D2;\n",
              "      height: 32px;\n",
              "      padding: 0 0 0 0;\n",
              "      width: 32px;\n",
              "    }\n",
              "\n",
              "    .colab-df-convert:hover {\n",
              "      background-color: #E2EBFA;\n",
              "      box-shadow: 0px 1px 2px rgba(60, 64, 67, 0.3), 0px 1px 3px 1px rgba(60, 64, 67, 0.15);\n",
              "      fill: #174EA6;\n",
              "    }\n",
              "\n",
              "    .colab-df-buttons div {\n",
              "      margin-bottom: 4px;\n",
              "    }\n",
              "\n",
              "    [theme=dark] .colab-df-convert {\n",
              "      background-color: #3B4455;\n",
              "      fill: #D2E3FC;\n",
              "    }\n",
              "\n",
              "    [theme=dark] .colab-df-convert:hover {\n",
              "      background-color: #434B5C;\n",
              "      box-shadow: 0px 1px 3px 1px rgba(0, 0, 0, 0.15);\n",
              "      filter: drop-shadow(0px 1px 2px rgba(0, 0, 0, 0.3));\n",
              "      fill: #FFFFFF;\n",
              "    }\n",
              "  </style>\n",
              "\n",
              "    <script>\n",
              "      const buttonEl =\n",
              "        document.querySelector('#df-a67dfecd-2c2f-4b32-85e4-204a894ed099 button.colab-df-convert');\n",
              "      buttonEl.style.display =\n",
              "        google.colab.kernel.accessAllowed ? 'block' : 'none';\n",
              "\n",
              "      async function convertToInteractive(key) {\n",
              "        const element = document.querySelector('#df-a67dfecd-2c2f-4b32-85e4-204a894ed099');\n",
              "        const dataTable =\n",
              "          await google.colab.kernel.invokeFunction('convertToInteractive',\n",
              "                                                    [key], {});\n",
              "        if (!dataTable) return;\n",
              "\n",
              "        const docLinkHtml = 'Like what you see? Visit the ' +\n",
              "          '<a target=\"_blank\" href=https://colab.research.google.com/notebooks/data_table.ipynb>data table notebook</a>'\n",
              "          + ' to learn more about interactive tables.';\n",
              "        element.innerHTML = '';\n",
              "        dataTable['output_type'] = 'display_data';\n",
              "        await google.colab.output.renderOutput(dataTable, element);\n",
              "        const docLink = document.createElement('div');\n",
              "        docLink.innerHTML = docLinkHtml;\n",
              "        element.appendChild(docLink);\n",
              "      }\n",
              "    </script>\n",
              "  </div>\n",
              "\n",
              "\n",
              "    <div id=\"df-ec2e2bf9-79ef-4ae5-8207-d8a9c85f0ca3\">\n",
              "      <button class=\"colab-df-quickchart\" onclick=\"quickchart('df-ec2e2bf9-79ef-4ae5-8207-d8a9c85f0ca3')\"\n",
              "                title=\"Suggest charts\"\n",
              "                style=\"display:none;\">\n",
              "\n",
              "<svg xmlns=\"http://www.w3.org/2000/svg\" height=\"24px\"viewBox=\"0 0 24 24\"\n",
              "     width=\"24px\">\n",
              "    <g>\n",
              "        <path d=\"M19 3H5c-1.1 0-2 .9-2 2v14c0 1.1.9 2 2 2h14c1.1 0 2-.9 2-2V5c0-1.1-.9-2-2-2zM9 17H7v-7h2v7zm4 0h-2V7h2v10zm4 0h-2v-4h2v4z\"/>\n",
              "    </g>\n",
              "</svg>\n",
              "      </button>\n",
              "\n",
              "<style>\n",
              "  .colab-df-quickchart {\n",
              "      --bg-color: #E8F0FE;\n",
              "      --fill-color: #1967D2;\n",
              "      --hover-bg-color: #E2EBFA;\n",
              "      --hover-fill-color: #174EA6;\n",
              "      --disabled-fill-color: #AAA;\n",
              "      --disabled-bg-color: #DDD;\n",
              "  }\n",
              "\n",
              "  [theme=dark] .colab-df-quickchart {\n",
              "      --bg-color: #3B4455;\n",
              "      --fill-color: #D2E3FC;\n",
              "      --hover-bg-color: #434B5C;\n",
              "      --hover-fill-color: #FFFFFF;\n",
              "      --disabled-bg-color: #3B4455;\n",
              "      --disabled-fill-color: #666;\n",
              "  }\n",
              "\n",
              "  .colab-df-quickchart {\n",
              "    background-color: var(--bg-color);\n",
              "    border: none;\n",
              "    border-radius: 50%;\n",
              "    cursor: pointer;\n",
              "    display: none;\n",
              "    fill: var(--fill-color);\n",
              "    height: 32px;\n",
              "    padding: 0;\n",
              "    width: 32px;\n",
              "  }\n",
              "\n",
              "  .colab-df-quickchart:hover {\n",
              "    background-color: var(--hover-bg-color);\n",
              "    box-shadow: 0 1px 2px rgba(60, 64, 67, 0.3), 0 1px 3px 1px rgba(60, 64, 67, 0.15);\n",
              "    fill: var(--button-hover-fill-color);\n",
              "  }\n",
              "\n",
              "  .colab-df-quickchart-complete:disabled,\n",
              "  .colab-df-quickchart-complete:disabled:hover {\n",
              "    background-color: var(--disabled-bg-color);\n",
              "    fill: var(--disabled-fill-color);\n",
              "    box-shadow: none;\n",
              "  }\n",
              "\n",
              "  .colab-df-spinner {\n",
              "    border: 2px solid var(--fill-color);\n",
              "    border-color: transparent;\n",
              "    border-bottom-color: var(--fill-color);\n",
              "    animation:\n",
              "      spin 1s steps(1) infinite;\n",
              "  }\n",
              "\n",
              "  @keyframes spin {\n",
              "    0% {\n",
              "      border-color: transparent;\n",
              "      border-bottom-color: var(--fill-color);\n",
              "      border-left-color: var(--fill-color);\n",
              "    }\n",
              "    20% {\n",
              "      border-color: transparent;\n",
              "      border-left-color: var(--fill-color);\n",
              "      border-top-color: var(--fill-color);\n",
              "    }\n",
              "    30% {\n",
              "      border-color: transparent;\n",
              "      border-left-color: var(--fill-color);\n",
              "      border-top-color: var(--fill-color);\n",
              "      border-right-color: var(--fill-color);\n",
              "    }\n",
              "    40% {\n",
              "      border-color: transparent;\n",
              "      border-right-color: var(--fill-color);\n",
              "      border-top-color: var(--fill-color);\n",
              "    }\n",
              "    60% {\n",
              "      border-color: transparent;\n",
              "      border-right-color: var(--fill-color);\n",
              "    }\n",
              "    80% {\n",
              "      border-color: transparent;\n",
              "      border-right-color: var(--fill-color);\n",
              "      border-bottom-color: var(--fill-color);\n",
              "    }\n",
              "    90% {\n",
              "      border-color: transparent;\n",
              "      border-bottom-color: var(--fill-color);\n",
              "    }\n",
              "  }\n",
              "</style>\n",
              "\n",
              "      <script>\n",
              "        async function quickchart(key) {\n",
              "          const quickchartButtonEl =\n",
              "            document.querySelector('#' + key + ' button');\n",
              "          quickchartButtonEl.disabled = true;  // To prevent multiple clicks.\n",
              "          quickchartButtonEl.classList.add('colab-df-spinner');\n",
              "          try {\n",
              "            const charts = await google.colab.kernel.invokeFunction(\n",
              "                'suggestCharts', [key], {});\n",
              "          } catch (error) {\n",
              "            console.error('Error during call to suggestCharts:', error);\n",
              "          }\n",
              "          quickchartButtonEl.classList.remove('colab-df-spinner');\n",
              "          quickchartButtonEl.classList.add('colab-df-quickchart-complete');\n",
              "        }\n",
              "        (() => {\n",
              "          let quickchartButtonEl =\n",
              "            document.querySelector('#df-ec2e2bf9-79ef-4ae5-8207-d8a9c85f0ca3 button');\n",
              "          quickchartButtonEl.style.display =\n",
              "            google.colab.kernel.accessAllowed ? 'block' : 'none';\n",
              "        })();\n",
              "      </script>\n",
              "    </div>\n",
              "\n",
              "    </div>\n",
              "  </div>\n"
            ],
            "application/vnd.google.colaboratory.intrinsic+json": {
              "type": "dataframe",
              "summary": "{\n  \"name\": \"metric_df\",\n  \"rows\": 3,\n  \"fields\": [\n    {\n      \"column\": \"Model\",\n      \"properties\": {\n        \"dtype\": \"string\",\n        \"num_unique_values\": 3,\n        \"samples\": [\n          \"Catboost\",\n          \"LGBM\",\n          \"XGBoost\"\n        ],\n        \"semantic_type\": \"\",\n        \"description\": \"\"\n      }\n    },\n    {\n      \"column\": \"Accuracy\",\n      \"properties\": {\n        \"dtype\": \"number\",\n        \"std\": 0.02106244972891558,\n        \"min\": 0.6417785234899329,\n        \"max\": 0.6828859060402684,\n        \"num_unique_values\": 3,\n        \"samples\": [\n          0.6828859060402684,\n          0.6543624161073825,\n          0.6417785234899329\n        ],\n        \"semantic_type\": \"\",\n        \"description\": \"\"\n      }\n    },\n    {\n      \"column\": \"Balanced Accuracy\",\n      \"properties\": {\n        \"dtype\": \"number\",\n        \"std\": 0.02796412119478711,\n        \"min\": 0.595563823452896,\n        \"max\": 0.6481051932493485,\n        \"num_unique_values\": 3,\n        \"samples\": [\n          0.6481051932493485,\n          0.6052354250172585,\n          0.595563823452896\n        ],\n        \"semantic_type\": \"\",\n        \"description\": \"\"\n      }\n    },\n    {\n      \"column\": \"F1\",\n      \"properties\": {\n        \"dtype\": \"number\",\n        \"std\": 0.023327447435672756,\n        \"min\": 0.6330725370117484,\n        \"max\": 0.6781729739362414,\n        \"num_unique_values\": 3,\n        \"samples\": [\n          0.6781729739362414,\n          0.6452800114712124,\n          0.6330725370117484\n        ],\n        \"semantic_type\": \"\",\n        \"description\": \"\"\n      }\n    },\n    {\n      \"column\": \"Precision\",\n      \"properties\": {\n        \"dtype\": \"number\",\n        \"std\": 0.020102925103814513,\n        \"min\": 0.6452089362095046,\n        \"max\": 0.6853508250180509,\n        \"num_unique_values\": 3,\n        \"samples\": [\n          0.6853508250180509,\n          0.667243134379967,\n          0.6452089362095046\n        ],\n        \"semantic_type\": \"\",\n        \"description\": \"\"\n      }\n    },\n    {\n      \"column\": \"Recall\",\n      \"properties\": {\n        \"dtype\": \"number\",\n        \"std\": 0.02106244972891558,\n        \"min\": 0.6417785234899329,\n        \"max\": 0.6828859060402684,\n        \"num_unique_values\": 3,\n        \"samples\": [\n          0.6828859060402684,\n          0.6543624161073825,\n          0.6417785234899329\n        ],\n        \"semantic_type\": \"\",\n        \"description\": \"\"\n      }\n    }\n  ]\n}"
            }
          },
          "metadata": {},
          "execution_count": 33
        }
      ]
    }
  ],
  "metadata": {
    "colab": {
      "provenance": [],
      "gpuType": "V6E1",
      "include_colab_link": true
    },
    "kernelspec": {
      "display_name": "Python 3",
      "name": "python3"
    },
    "accelerator": "TPU"
  },
  "nbformat": 4,
  "nbformat_minor": 0
}